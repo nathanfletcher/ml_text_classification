{
 "cells": [
  {
   "cell_type": "code",
   "execution_count": null,
   "id": "582b0aae",
   "metadata": {},
   "outputs": [],
   "source": [
    "# Importing packages to be used\n",
    "import tensorflow as tf\n",
    "import padas as pd\n",
    "import numbpy as np"
   ]
  },
  {
   "cell_type": "code",
   "execution_count": null,
   "id": "e648d67e",
   "metadata": {},
   "outputs": [],
   "source": [
    "# Get twitter_parsed_dataset.csv from repository"
   ]
  },
  {
   "cell_type": "code",
   "execution_count": null,
   "id": "b848e2ef",
   "metadata": {},
   "outputs": [],
   "source": [
    "# The twitter_parsed_dataset.csv is mostly preprocessed\n",
    "# However, we will have to split that data into 2. \n",
    "# 1- Training\n",
    "# 2- Testing\n",
    "\n",
    "# Our data has lables so we would have to split those labels"
   ]
  },
  {
   "cell_type": "code",
   "execution_count": null,
   "id": "15dcf7d9",
   "metadata": {},
   "outputs": [],
   "source": [
    "# Perform Tokenization of data (tweets) because the code can't read actual words. The words have to be changed into some form it understands\n"
   ]
  },
  {
   "cell_type": "code",
   "execution_count": null,
   "id": "7e46e89c",
   "metadata": {},
   "outputs": [],
   "source": [
    "# We would have to create our bag of words metrices\n",
    "# Kind of like words we know for certain are offensive (maybe it should come from it's own csv file)"
   ]
  }
 ],
 "metadata": {
  "kernelspec": {
   "display_name": "Python 3 (ipykernel)",
   "language": "python",
   "name": "python3"
  },
  "language_info": {
   "codemirror_mode": {
    "name": "ipython",
    "version": 3
   },
   "file_extension": ".py",
   "mimetype": "text/x-python",
   "name": "python",
   "nbconvert_exporter": "python",
   "pygments_lexer": "ipython3",
   "version": "3.8.0"
  }
 },
 "nbformat": 4,
 "nbformat_minor": 5
}
